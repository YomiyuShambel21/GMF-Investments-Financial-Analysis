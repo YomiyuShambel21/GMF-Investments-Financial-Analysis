{
 "cells": [
  {
   "cell_type": "code",
   "execution_count": 11,
   "metadata": {},
   "outputs": [],
   "source": [
    "import yfinance as yf\n",
    "import matplotlib.pyplot as plt\n",
    "from statsmodels.tsa.seasonal import seasonal_decompose\n",
    "import pandas as pd"
   ]
  },
  {
   "cell_type": "code",
   "execution_count": 12,
   "metadata": {},
   "outputs": [],
   "source": [
    "# Define the tickers and date range\n",
    "tickers = ['TSLA', 'BND', 'SPY']  # Example tickers\n",
    "start_date = '2015-01-01'        # Start date\n",
    "end_date = '2025-01-31'          # End date"
   ]
  },
  {
   "cell_type": "code",
   "execution_count": 13,
   "metadata": {},
   "outputs": [
    {
     "name": "stderr",
     "output_type": "stream",
     "text": [
      "[*********************100%***********************]  3 of 3 completed\n"
     ]
    }
   ],
   "source": [
    "data = yf.download(tickers, start=start_date, end=end_date)"
   ]
  },
  {
   "cell_type": "code",
   "execution_count": 20,
   "metadata": {},
   "outputs": [
    {
     "name": "stdout",
     "output_type": "stream",
     "text": [
      "MultiIndex([( 'Close',  'BND'),\n",
      "            ( 'Close',  'SPY'),\n",
      "            ( 'Close', 'TSLA'),\n",
      "            (  'High',  'BND'),\n",
      "            (  'High',  'SPY'),\n",
      "            (  'High', 'TSLA'),\n",
      "            (   'Low',  'BND'),\n",
      "            (   'Low',  'SPY'),\n",
      "            (   'Low', 'TSLA'),\n",
      "            (  'Open',  'BND'),\n",
      "            (  'Open',  'SPY'),\n",
      "            (  'Open', 'TSLA'),\n",
      "            ('Volume',  'BND'),\n",
      "            ('Volume',  'SPY'),\n",
      "            ('Volume', 'TSLA')],\n",
      "           names=['Price', 'Ticker'])\n"
     ]
    }
   ],
   "source": [
    "# Check the columns\n",
    "print(data.columns)"
   ]
  },
  {
   "cell_type": "code",
   "execution_count": 21,
   "metadata": {},
   "outputs": [],
   "source": [
    "# Step 3: Access the Close prices for TSLA\n",
    "try:\n",
    "    tsla_close = data[('Close', 'TSLA')]\n",
    "except KeyError:\n",
    "    print(\"KeyError: 'Close' for 'TSLA' not found. Check if the column name has changed.\")"
   ]
  },
  {
   "cell_type": "code",
   "execution_count": 22,
   "metadata": {},
   "outputs": [
    {
     "name": "stderr",
     "output_type": "stream",
     "text": [
      "c:\\Users\\User\\AppData\\Local\\Programs\\Python\\Python313\\Lib\\site-packages\\statsmodels\\tsa\\base\\tsa_model.py:473: ValueWarning: A date index has been provided, but it has no associated frequency information and so will be ignored when e.g. forecasting.\n",
      "  self._init_dates(dates, freq)\n",
      "c:\\Users\\User\\AppData\\Local\\Programs\\Python\\Python313\\Lib\\site-packages\\statsmodels\\tsa\\base\\tsa_model.py:473: ValueWarning: A date index has been provided, but it has no associated frequency information and so will be ignored when e.g. forecasting.\n",
      "  self._init_dates(dates, freq)\n",
      "c:\\Users\\User\\AppData\\Local\\Programs\\Python\\Python313\\Lib\\site-packages\\statsmodels\\tsa\\base\\tsa_model.py:473: ValueWarning: A date index has been provided, but it has no associated frequency information and so will be ignored when e.g. forecasting.\n",
      "  self._init_dates(dates, freq)\n"
     ]
    },
    {
     "name": "stdout",
     "output_type": "stream",
     "text": [
      "                               SARIMAX Results                                \n",
      "==============================================================================\n",
      "Dep. Variable:      ('Close', 'TSLA')   No. Observations:                 2535\n",
      "Model:                 ARIMA(5, 1, 0)   Log Likelihood               -8280.402\n",
      "Date:                Tue, 04 Mar 2025   AIC                          16572.803\n",
      "Time:                        10:15:52   BIC                          16607.829\n",
      "Sample:                             0   HQIC                         16585.510\n",
      "                               - 2535                                         \n",
      "Covariance Type:                  opg                                         \n",
      "==============================================================================\n",
      "                 coef    std err          z      P>|z|      [0.025      0.975]\n",
      "------------------------------------------------------------------------------\n",
      "ar.L1         -0.0183      0.012     -1.497      0.134      -0.042       0.006\n",
      "ar.L2          0.0118      0.011      1.113      0.266      -0.009       0.032\n",
      "ar.L3         -0.0061      0.013     -0.486      0.627      -0.031       0.019\n",
      "ar.L4          0.0297      0.011      2.683      0.007       0.008       0.051\n",
      "ar.L5         -0.0235      0.011     -2.080      0.038      -0.046      -0.001\n",
      "sigma2        40.3479      0.459     87.809      0.000      39.447      41.249\n",
      "===================================================================================\n",
      "Ljung-Box (L1) (Q):                   0.00   Jarque-Bera (JB):             11417.09\n",
      "Prob(Q):                              1.00   Prob(JB):                         0.00\n",
      "Heteroskedasticity (H):             551.15   Skew:                             0.21\n",
      "Prob(H) (two-sided):                  0.00   Kurtosis:                        13.39\n",
      "===================================================================================\n",
      "\n",
      "Warnings:\n",
      "[1] Covariance matrix calculated using the outer product of gradients (complex-step).\n"
     ]
    }
   ],
   "source": [
    "#Fit the ARIMA model if the 'Close' is available\n",
    "if ('Close', 'TSLA') in data.columns:\n",
    "    model = ARIMA(tsla_close, order=(5, 1, 0))  # Adjust parameters as needed\n",
    "    model_fit = model.fit()\n",
    "    print(model_fit.summary())"
   ]
  },
  {
   "cell_type": "code",
   "execution_count": 14,
   "metadata": {},
   "outputs": [],
   "source": [
    "train_size = int(len(data) * 0.8)\n",
    "train, test = data[:train_size], data[train_size:]"
   ]
  },
  {
   "cell_type": "code",
   "execution_count": 15,
   "metadata": {},
   "outputs": [
    {
     "name": "stdout",
     "output_type": "stream",
     "text": [
      "Train Data Columns:\n",
      "MultiIndex([( 'Close',  'BND'),\n",
      "            ( 'Close',  'SPY'),\n",
      "            ( 'Close', 'TSLA'),\n",
      "            (  'High',  'BND'),\n",
      "            (  'High',  'SPY'),\n",
      "            (  'High', 'TSLA'),\n",
      "            (   'Low',  'BND'),\n",
      "            (   'Low',  'SPY'),\n",
      "            (   'Low', 'TSLA'),\n",
      "            (  'Open',  'BND'),\n",
      "            (  'Open',  'SPY'),\n",
      "            (  'Open', 'TSLA'),\n",
      "            ('Volume',  'BND'),\n",
      "            ('Volume',  'SPY'),\n",
      "            ('Volume', 'TSLA')],\n",
      "           names=['Price', 'Ticker'])\n"
     ]
    }
   ],
   "source": [
    "# Print the columns to understand the structure\n",
    "print(\"Train Data Columns:\")\n",
    "print(train.columns)"
   ]
  },
  {
   "cell_type": "code",
   "execution_count": null,
   "metadata": {},
   "outputs": [
    {
     "name": "stderr",
     "output_type": "stream",
     "text": [
      "c:\\Users\\User\\AppData\\Local\\Programs\\Python\\Python313\\Lib\\site-packages\\statsmodels\\tsa\\base\\tsa_model.py:473: ValueWarning: A date index has been provided, but it has no associated frequency information and so will be ignored when e.g. forecasting.\n",
      "  self._init_dates(dates, freq)\n",
      "c:\\Users\\User\\AppData\\Local\\Programs\\Python\\Python313\\Lib\\site-packages\\statsmodels\\tsa\\base\\tsa_model.py:473: ValueWarning: A date index has been provided, but it has no associated frequency information and so will be ignored when e.g. forecasting.\n",
      "  self._init_dates(dates, freq)\n",
      "c:\\Users\\User\\AppData\\Local\\Programs\\Python\\Python313\\Lib\\site-packages\\statsmodels\\tsa\\base\\tsa_model.py:473: ValueWarning: A date index has been provided, but it has no associated frequency information and so will be ignored when e.g. forecasting.\n",
      "  self._init_dates(dates, freq)\n"
     ]
    },
    {
     "name": "stdout",
     "output_type": "stream",
     "text": [
      "                               SARIMAX Results                                \n",
      "==============================================================================\n",
      "Dep. Variable:                   TSLA   No. Observations:                 2028\n",
      "Model:                 ARIMA(5, 1, 0)   Log Likelihood               -6334.885\n",
      "Date:                Mon, 03 Mar 2025   AIC                          12681.771\n",
      "Time:                        15:04:53   BIC                          12715.457\n",
      "Sample:                             0   HQIC                         12694.131\n",
      "                               - 2028                                         \n",
      "Covariance Type:                  opg                                         \n",
      "==============================================================================\n",
      "                 coef    std err          z      P>|z|      [0.025      0.975]\n",
      "------------------------------------------------------------------------------\n",
      "ar.L1         -0.0376      0.012     -3.103      0.002      -0.061      -0.014\n",
      "ar.L2          0.0154      0.010      1.496      0.135      -0.005       0.036\n",
      "ar.L3      -1.106e-05      0.013     -0.001      0.999      -0.026       0.026\n",
      "ar.L4          0.0402      0.011      3.624      0.000       0.018       0.062\n",
      "ar.L5         -0.0118      0.011     -1.091      0.275      -0.033       0.009\n",
      "sigma2        30.3447      0.336     90.342      0.000      29.686      31.003\n",
      "===================================================================================\n",
      "Ljung-Box (L1) (Q):                   0.00   Jarque-Bera (JB):             18591.53\n",
      "Prob(Q):                              0.99   Prob(JB):                         0.00\n",
      "Heteroskedasticity (H):             587.33   Skew:                            -0.13\n",
      "Prob(H) (two-sided):                  0.00   Kurtosis:                        17.83\n",
      "===================================================================================\n",
      "\n",
      "Warnings:\n",
      "[1] Covariance matrix calculated using the outer product of gradients (complex-step).\n"
     ]
    }
   ],
   "source": [
    "try:\n",
    "    # Access Close prices for TSLA\n",
    "    tsla_close = train['Close']['TSLA']\n",
    "    model = ARIMA(tsla_close, order=(5, 1, 0))  # Adjust parameters as needed\n",
    "    model_fit = model.fit()\n",
    "    \n",
    "    # Print model summary\n",
    "    print(model_fit.summary())\n",
    "except KeyError as e:\n",
    "    print(f\"KeyError: {e}. Please check the column names.\")\n",
    "except NameError as e:\n",
    "    print(f\"NameError: {e}. Ensure all previous code has run successfully.\")"
   ]
  },
  {
   "cell_type": "code",
   "execution_count": 28,
   "metadata": {},
   "outputs": [
    {
     "name": "stdout",
     "output_type": "stream",
     "text": [
      "('Close', 'TSLA')        mean     mean_se  mean_ci_lower  mean_ci_upper\n",
      "2535               399.820812    6.352002     387.371117     412.270507\n",
      "2536               400.265615    8.901454     382.819085     417.712145\n",
      "2537               399.894419   10.912732     378.505858     421.282980\n",
      "2538               400.452836   12.586285     375.784172     425.121501\n",
      "2539               400.158819   14.148279     372.428701     427.888936\n",
      "...                       ...         ...            ...            ...\n",
      "2782               400.180700   99.393771     205.372489     594.988911\n",
      "2783               400.180700   99.593940     204.980165     595.381235\n",
      "2784               400.180700   99.793708     204.588627     595.772773\n",
      "2785               400.180700   99.993076     204.197872     596.163528\n",
      "2786               400.180700  100.192048     203.807894     596.553506\n",
      "\n",
      "[252 rows x 4 columns]\n"
     ]
    },
    {
     "name": "stderr",
     "output_type": "stream",
     "text": [
      "c:\\Users\\User\\AppData\\Local\\Programs\\Python\\Python313\\Lib\\site-packages\\statsmodels\\tsa\\base\\tsa_model.py:837: ValueWarning: No supported index is available. Prediction results will be given with an integer index beginning at `start`.\n",
      "  return get_prediction_index(\n",
      "c:\\Users\\User\\AppData\\Local\\Programs\\Python\\Python313\\Lib\\site-packages\\statsmodels\\tsa\\base\\tsa_model.py:837: FutureWarning: No supported index is available. In the next version, calling this method in a model without a supported index will result in an exception.\n",
      "  return get_prediction_index(\n"
     ]
    }
   ],
   "source": [
    "forecast = model_fit.get_forecast(steps=252)\n",
    "print(forecast.summary_frame())"
   ]
  },
  {
   "cell_type": "code",
   "execution_count": 25,
   "metadata": {},
   "outputs": [
    {
     "name": "stdout",
     "output_type": "stream",
     "text": [
      "1.6.1\n"
     ]
    }
   ],
   "source": [
    "import sklearn\n",
    "print(sklearn.__version__)"
   ]
  },
  {
   "cell_type": "code",
   "execution_count": 34,
   "metadata": {},
   "outputs": [
    {
     "name": "stdout",
     "output_type": "stream",
     "text": [
      "Length of test data: 507\n",
      "Length of forecast values: 252\n",
      "ValueError: Length of test data and forecast values do not match.. Length of test data and forecast values do not match.\n"
     ]
    }
   ],
   "source": [
    "# Assuming `forecast` is already defined and contains your model's predictions\n",
    "try:\n",
    "    # Access Close prices for TSLA in the test set\n",
    "    tsla_close_test = test[('Close', 'TSLA')]  # Correct way to access MultiIndex\n",
    "\n",
    "    # Extract predicted values from the forecast\n",
    "    forecast_values = forecast.predicted_mean  # Extract the predicted values\n",
    "\n",
    "    # Print lengths for debugging\n",
    "    print(f'Length of test data: {len(tsla_close_test)}')\n",
    "    print(f'Length of forecast values: {len(forecast_values)}')\n",
    "\n",
    "    # Ensure the lengths match\n",
    "    if len(tsla_close_test) != len(forecast_values):\n",
    "        raise ValueError(\"Length of test data and forecast values do not match.\")\n",
    "\n",
    "    # Calculate Mean Absolute Error\n",
    "    mae = mean_absolute_error(tsla_close_test, forecast_values)\n",
    "\n",
    "    # Calculate Mean Squared Error and then RMSE manually\n",
    "    mse = mean_squared_error(tsla_close_test, forecast_values)\n",
    "    rmse = mse ** 0.5  # Calculate RMSE manually\n",
    "\n",
    "    # Print the metrics\n",
    "    print(f'Mean Absolute Error: {mae}')\n",
    "    print(f'Root Mean Squared Error: {rmse}')\n",
    "\n",
    "except KeyError as e:\n",
    "    print(f\"KeyError: {e}. Please check the column names.\")\n",
    "except NameError as e:\n",
    "    print(f\"NameError: {e}. Ensure all previous code has run successfully.\")\n",
    "except ValueError as e:\n",
    "    print(f\"ValueError: {e}. {str(e)}\")"
   ]
  }
 ],
 "metadata": {
  "kernelspec": {
   "display_name": "Python 3",
   "language": "python",
   "name": "python3"
  },
  "language_info": {
   "codemirror_mode": {
    "name": "ipython",
    "version": 3
   },
   "file_extension": ".py",
   "mimetype": "text/x-python",
   "name": "python",
   "nbconvert_exporter": "python",
   "pygments_lexer": "ipython3",
   "version": "3.13.2"
  }
 },
 "nbformat": 4,
 "nbformat_minor": 2
}
